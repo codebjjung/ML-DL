{
  "nbformat": 4,
  "nbformat_minor": 0,
  "metadata": {
    "colab": {
      "provenance": [],
      "gpuType": "T4",
      "authorship_tag": "ABX9TyPGmYBpHSJCmLhxPex1O1mC",
      "include_colab_link": true
    },
    "kernelspec": {
      "name": "python3",
      "display_name": "Python 3"
    },
    "language_info": {
      "name": "python"
    },
    "accelerator": "GPU"
  },
  "cells": [
    {
      "cell_type": "markdown",
      "metadata": {
        "id": "view-in-github",
        "colab_type": "text"
      },
      "source": [
        "<a href=\"https://colab.research.google.com/github/codebjjung/ML-DL/blob/main/CNN_seq_api.ipynb\" target=\"_parent\"><img src=\"https://colab.research.google.com/assets/colab-badge.svg\" alt=\"Open In Colab\"/></a>"
      ]
    },
    {
      "cell_type": "code",
      "execution_count": null,
      "metadata": {
        "id": "KjeBCwVSpkud"
      },
      "outputs": [],
      "source": [
        "# libraries\n",
        "\n",
        "import numpy as np\n",
        "import tensorflow as tf\n",
        "from tensorflow import keras\n",
        "from tensorflow.keras.utils import to_categorical\n",
        "import matplotlib.pyplot as plt\n",
        "import os"
      ]
    },
    {
      "cell_type": "code",
      "source": [
        "# set hyper parameters\n",
        "\n",
        "learning_rate = 0.001\n",
        "training_epochs = 15\n",
        "batch_size = 100\n",
        "\n",
        "cur_dir = os.getcwd()\n",
        "ckpt_dir_name = 'checkpoints'\n",
        "model_dir_name = 'minst_cnn_seq'\n",
        "\n",
        "checkpoint_dir = os.path.join(cur_dir, ckpt_dir_name, model_dir_name)\n",
        "os.makedirs(checkpoint_dir, exist_ok=True)\n",
        "\n",
        "checkpoint_prefix = os.path.join(checkpoint_dir, model_dir_name)"
      ],
      "metadata": {
        "id": "e4ERstplpwE1"
      },
      "execution_count": null,
      "outputs": []
    },
    {
      "cell_type": "code",
      "source": [
        "# make a data pipelining\n",
        "\n",
        "mnist = keras.datasets.mnist\n",
        "class_names = ['0', '1', '2', '3', '4', '5', '6', '7', '8', '9']\n",
        "\n",
        "(train_images, train_labels), (test_images, test_labels) = mnist.load_data()\n",
        "\n",
        "train_images = train_images.astype(np.float32) / 255.\n",
        "test_images = test_images.astype(np.float32) / 255.\n",
        "train_images = np.expand_dims(train_images, axis = -1)\n",
        "test_images = np.expand_dims(test_images, axis = -1)\n",
        "\n",
        "train_labels = to_categorical(train_labels, 10)\n",
        "test_labels = to_categorical(test_labels, 10)\n",
        "\n",
        "train_dataset = tf.data.Dataset.from_tensor_slices((train_images, train_labels)).shuffle(buffer_size=100000).batch(batch_size)\n",
        "test_dataset = tf.data.Dataset.from_tensor_slices((test_images, test_labels)).shuffle(buffer_size=100000).batch(batch_size)"
      ],
      "metadata": {
        "id": "QfNRAVIOrWlV",
        "colab": {
          "base_uri": "https://localhost:8080/"
        },
        "outputId": "0c404a7c-ef31-406a-9746-191f5505b18f"
      },
      "execution_count": null,
      "outputs": [
        {
          "output_type": "stream",
          "name": "stdout",
          "text": [
            "Downloading data from https://storage.googleapis.com/tensorflow/tf-keras-datasets/mnist.npz\n",
            "11490434/11490434 [==============================] - 1s 0us/step\n"
          ]
        }
      ]
    },
    {
      "cell_type": "code",
      "source": [
        "# model function #\n",
        "\n",
        "def create_model():\n",
        "  model = keras.Sequential()\n",
        "  # Conv\n",
        "  model.add(keras.layers.Conv2D(filters=32, kernel_size=3, activation=tf.nn.relu, padding='SAME', input_shape=(28,28,1)))\n",
        "\n",
        "  # Max pooling\n",
        "  model.add(keras.layers.MaxPool2D(padding='SAME'))\n",
        "\n",
        "  # Conv\n",
        "  model.add(keras.layers.Conv2D(filters=64, kernel_size=3, activation=tf.nn.relu, padding='SAME'))\n",
        "\n",
        "  # Max pooling\n",
        "  model.add(keras.layers.MaxPool2D(padding='SAME'))\n",
        "\n",
        "  # Conv\n",
        "  model.add(keras.layers.Conv2D(filters=128, kernel_size=3, activation=tf.nn.relu, padding='SAME'))\n",
        "\n",
        "  # Max pooling\n",
        "  model.add(keras.layers.MaxPool2D(padding='SAME'))\n",
        "\n",
        "  # Fully connected layer\n",
        "  model.add(keras.layers.Flatten())\n",
        "  model.add(keras.layers.Dense(256,activation=tf.nn.relu))\n",
        "  model.add(keras.layers.Dropout(0.4))\n",
        "  model.add(keras.layers.Dense(10))\n",
        "  return model"
      ],
      "metadata": {
        "id": "Vq5tly-1rvBO"
      },
      "execution_count": null,
      "outputs": []
    },
    {
      "cell_type": "code",
      "source": [
        "model = create_model()\n",
        "model.summary()"
      ],
      "metadata": {
        "colab": {
          "base_uri": "https://localhost:8080/"
        },
        "id": "pPpGJCyPmPnW",
        "outputId": "83493fb6-ff2f-47f8-b9c2-7f0e3fe64a74"
      },
      "execution_count": null,
      "outputs": [
        {
          "output_type": "stream",
          "name": "stdout",
          "text": [
            "Model: \"sequential\"\n",
            "_________________________________________________________________\n",
            " Layer (type)                Output Shape              Param #   \n",
            "=================================================================\n",
            " conv2d (Conv2D)             (None, 28, 28, 32)        320       \n",
            "                                                                 \n",
            " max_pooling2d (MaxPooling2  (None, 14, 14, 32)        0         \n",
            " D)                                                              \n",
            "                                                                 \n",
            " conv2d_1 (Conv2D)           (None, 14, 14, 64)        18496     \n",
            "                                                                 \n",
            " max_pooling2d_1 (MaxPoolin  (None, 7, 7, 64)          0         \n",
            " g2D)                                                            \n",
            "                                                                 \n",
            " conv2d_2 (Conv2D)           (None, 7, 7, 128)         73856     \n",
            "                                                                 \n",
            " max_pooling2d_2 (MaxPoolin  (None, 4, 4, 128)         0         \n",
            " g2D)                                                            \n",
            "                                                                 \n",
            " flatten (Flatten)           (None, 2048)              0         \n",
            "                                                                 \n",
            " dense (Dense)               (None, 256)               524544    \n",
            "                                                                 \n",
            " dropout (Dropout)           (None, 256)               0         \n",
            "                                                                 \n",
            " dense_1 (Dense)             (None, 10)                2570      \n",
            "                                                                 \n",
            "=================================================================\n",
            "Total params: 619786 (2.36 MB)\n",
            "Trainable params: 619786 (2.36 MB)\n",
            "Non-trainable params: 0 (0.00 Byte)\n",
            "_________________________________________________________________\n"
          ]
        }
      ]
    },
    {
      "cell_type": "code",
      "source": [
        "def loss_fn(model, images, labels):\n",
        "  logits = model(images, training=True)\n",
        "  ## bugfix (logits_v2 -> logits)\n",
        "  loss = tf.reduce_mean(tf.nn.softmax_cross_entropy_with_logits(logits=logits, labels=labels))\n",
        "  return loss"
      ],
      "metadata": {
        "id": "qnNWGcgmnlWM"
      },
      "execution_count": null,
      "outputs": []
    },
    {
      "cell_type": "code",
      "source": [
        "# calculating gradient\n",
        "\n",
        "def grad(model, images, labels):\n",
        "  with tf.GradientTape() as tape:\n",
        "    loss = loss_fn(model, images, labels)\n",
        "    return tape.gradient(loss, model.variables)"
      ],
      "metadata": {
        "id": "9ozkPsk5oPVt"
      },
      "execution_count": null,
      "outputs": []
    },
    {
      "cell_type": "code",
      "source": [
        "def evaluate(model, images, labels):\n",
        "  logits = model(images, training=False)\n",
        "  correct_prediction = tf.equal(tf.argmax(logits, 1), tf.argmax(labels, 1))\n",
        "  accuracy = tf.reduce_mean(tf.cast(correct_prediction, tf.float32))\n",
        "  return accuracy\n",
        "\n",
        "## adam optimizer debug (tf.train.AdamOptimizer -> tf.keras.optimizers.Adam)\n",
        "optimizer = tf.keras.optimizers.Adam(learning_rate=learning_rate)\n",
        "\n",
        "checkpoint = tf.train.Checkpoint(cnn=model)"
      ],
      "metadata": {
        "id": "MFHHabnwoa0b"
      },
      "execution_count": null,
      "outputs": []
    },
    {
      "cell_type": "code",
      "source": [
        "for epoch in range(training_epochs):\n",
        "  avg_loss = 0.\n",
        "  avg_train_acc = 0.\n",
        "  avg_test_acc = 0.\n",
        "  train_step = 0\n",
        "  test_step = 0\n",
        "\n",
        "  for images, labels in train_dataset:\n",
        "    grads = grad(model, images, labels)\n",
        "    optimizer.apply_gradients(zip(grads, model.variables))\n",
        "    loss = loss_fn(model, images, labels)\n",
        "    acc = evaluate(model, images, labels)\n",
        "    avg_loss = avg_loss + loss\n",
        "    avg_train_acc = avg_train_acc + acc\n",
        "    train_step += 1\n",
        "\n",
        "  avg_loss = avg_loss / train_step\n",
        "  avg_train_acc = avg_train_acc / train_step\n",
        "\n",
        "  for images, labels in test_dataset:\n",
        "    acc = evaluate(model, images, labels)\n",
        "    avg_test_acc = avg_test_acc + acc\n",
        "    test_step += 1\n",
        "\n",
        "  avg_test_acc = avg_test_acc / test_step\n",
        "\n",
        "  print('Epoch:', '{}'.format(epoch + 1), 'loss =', '{:.8f}'.format(avg_loss), 'train accuracy =', '{:.4f}'.format(avg_train_acc), 'test accuracy = ', '{:.4f}'.format(avg_test_acc))\n",
        "  checkpoint.save(file_prefix=checkpoint_prefix)"
      ],
      "metadata": {
        "id": "cr49_xzRpQai",
        "colab": {
          "base_uri": "https://localhost:8080/"
        },
        "outputId": "32e886cf-fc5a-4b1c-daa8-cb8629064a28"
      },
      "execution_count": null,
      "outputs": [
        {
          "output_type": "stream",
          "name": "stderr",
          "text": [
            "WARNING:tensorflow:5 out of the last 5 calls to <function _BaseOptimizer._update_step_xla at 0x7cd678028b80> triggered tf.function retracing. Tracing is expensive and the excessive number of tracings could be due to (1) creating @tf.function repeatedly in a loop, (2) passing tensors with different shapes, (3) passing Python objects instead of tensors. For (1), please define your @tf.function outside of the loop. For (2), @tf.function has reduce_retracing=True option that can avoid unnecessary retracing. For (3), please refer to https://www.tensorflow.org/guide/function#controlling_retracing and https://www.tensorflow.org/api_docs/python/tf/function for  more details.\n",
            "WARNING:tensorflow:6 out of the last 6 calls to <function _BaseOptimizer._update_step_xla at 0x7cd678028b80> triggered tf.function retracing. Tracing is expensive and the excessive number of tracings could be due to (1) creating @tf.function repeatedly in a loop, (2) passing tensors with different shapes, (3) passing Python objects instead of tensors. For (1), please define your @tf.function outside of the loop. For (2), @tf.function has reduce_retracing=True option that can avoid unnecessary retracing. For (3), please refer to https://www.tensorflow.org/guide/function#controlling_retracing and https://www.tensorflow.org/api_docs/python/tf/function for  more details.\n"
          ]
        },
        {
          "output_type": "stream",
          "name": "stdout",
          "text": [
            "Epoch: 1 loss = 0.19115287 train accuracy = 0.9543 test accuracy =  0.9844\n",
            "Epoch: 2 loss = 0.05215061 train accuracy = 0.9890 test accuracy =  0.9902\n",
            "Epoch: 3 loss = 0.03524313 train accuracy = 0.9927 test accuracy =  0.9914\n",
            "Epoch: 4 loss = 0.02582709 train accuracy = 0.9948 test accuracy =  0.9929\n",
            "Epoch: 5 loss = 0.02180528 train accuracy = 0.9961 test accuracy =  0.9906\n",
            "Epoch: 6 loss = 0.01839465 train accuracy = 0.9969 test accuracy =  0.9930\n",
            "Epoch: 7 loss = 0.01488997 train accuracy = 0.9975 test accuracy =  0.9927\n",
            "Epoch: 8 loss = 0.01242652 train accuracy = 0.9980 test accuracy =  0.9941\n",
            "Epoch: 9 loss = 0.01014663 train accuracy = 0.9987 test accuracy =  0.9932\n",
            "Epoch: 10 loss = 0.00903663 train accuracy = 0.9989 test accuracy =  0.9915\n",
            "Epoch: 11 loss = 0.00781323 train accuracy = 0.9991 test accuracy =  0.9935\n",
            "Epoch: 12 loss = 0.00724865 train accuracy = 0.9993 test accuracy =  0.9913\n",
            "Epoch: 13 loss = 0.00679678 train accuracy = 0.9992 test accuracy =  0.9930\n",
            "Epoch: 14 loss = 0.00579073 train accuracy = 0.9994 test accuracy =  0.9934\n",
            "Epoch: 15 loss = 0.00653987 train accuracy = 0.9994 test accuracy =  0.9926\n"
          ]
        }
      ]
    },
    {
      "cell_type": "code",
      "source": [],
      "metadata": {
        "id": "7j-Sl19ezqVH"
      },
      "execution_count": null,
      "outputs": []
    }
  ]
}